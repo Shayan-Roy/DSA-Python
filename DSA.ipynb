{
  "nbformat": 4,
  "nbformat_minor": 0,
  "metadata": {
    "colab": {
      "provenance": [],
      "gpuType": "T4",
      "authorship_tag": "ABX9TyO46YBgIqRWoPrErPRMH93N",
      "include_colab_link": true
    },
    "kernelspec": {
      "name": "python3",
      "display_name": "Python 3"
    },
    "language_info": {
      "name": "python"
    }
  },
  "cells": [
    {
      "cell_type": "markdown",
      "metadata": {
        "id": "view-in-github",
        "colab_type": "text"
      },
      "source": [
        "<a href=\"https://colab.research.google.com/github/Shayan-Roy/DSA-Python/blob/main/DSA.ipynb\" target=\"_parent\"><img src=\"https://colab.research.google.com/assets/colab-badge.svg\" alt=\"Open In Colab\"/></a>"
      ]
    },
    {
      "cell_type": "markdown",
      "source": [
        "# ***CREATE OWN LIST***"
      ],
      "metadata": {
        "id": "AA0HMnA4EdBr"
      }
    },
    {
      "cell_type": "code",
      "source": [
        "class Meralist:\n",
        "    def __init__(self):\n",
        "        self.size=1\n",
        "        self.n =0\n",
        "        self.A =self.makeArray(self.size)\n",
        "\n",
        "    def makeArray(self,capacity):\n",
        "        return(capacity*ctypes.py_object)()\n",
        "\n",
        "    def __len__(self):\n",
        "        return self.n\n",
        "\n",
        "    def append(self,item):\n",
        "        if self.n==self.size:\n",
        "            self.resize(self.size*2)\n",
        "\n",
        "        self.A[self.n] = item\n",
        "        self.n=self.n+1\n",
        "\n",
        "    def resize(self,new_capacity):\n",
        "        self.B= self.makeArray(new_capacity)\n",
        "        self.size = new_capacity\n",
        "        for i in range(self.n):\n",
        "            self.B[i] = self.A[i]\n",
        "\n",
        "        self.A= self.B\n",
        "\n",
        "    def __getitem__(self,index):\n",
        "        if 0<= index<self.n:\n",
        "            return (self.A[index])\n",
        "\n",
        "        else:\n",
        "            return \"indexing error\"\n",
        "\n",
        "    def pop(self):\n",
        "        if self.n ==0 :\n",
        "            return \"empty\"\n",
        "        else:\n",
        "            print(self.A[self.n-1])\n",
        "            self.n=self.n-1\n",
        "\n",
        "    def clear(self):\n",
        "        self.n=0\n",
        "        self.size=1\n",
        "\n",
        "    def find(self, item):\n",
        "        print(self.n)\n",
        "        for i in range(self.n+1):\n",
        "            if self.A[i] == item:\n",
        "                return i\n",
        "            else:\n",
        "                return \"value error\"\n",
        "\n",
        "    def insert(self,pos,item):\n",
        "        if self.n== self.size:\n",
        "            self.resize(self.size*2)\n",
        "        for i in range (self.n,pos,-1):\n",
        "            self.A[i] = self.A[i-1]\n",
        "        self.A[pos] =item\n",
        "        self.n=self.n+1\n",
        "\n",
        "    def delete(self,pos):\n",
        "        for i in range(pos,self.n-1):\n",
        "            self.A[i]=self.A[i+1]\n",
        "\n",
        "        self.n=self.n-1\n",
        "\n",
        "    def sort(self):\n",
        "        for i in range(self.n):\n",
        "            for j in range(self.n):\n",
        "                if self.A[j] > self.A[i]:\n",
        "                    temp= self.A[i]\n",
        "                    self.A[i]=self.A[j]\n",
        "                    self.A[j]=temp\n",
        "\n",
        "\n",
        "    def max(self):\n",
        "            self.sort()\n",
        "            print(self.A[self.n - 1])\n",
        "\n",
        "    def min(self):\n",
        "            self.sort()\n",
        "            print(self.A[0])\n",
        "\n",
        "    def sum(self):\n",
        "        s=0\n",
        "        for i in range(self.n):\n",
        "            s=s+self.A[i]\n",
        "        print(s)\n",
        "\n",
        "    def __str__(self):\n",
        "        result= \"\"\n",
        "        for i in range(self.n):\n",
        "            result=result+str(self.A[i])+\",\"\n",
        "\n",
        "        return \"[\"+result[:-1]+\"]\""
      ],
      "metadata": {
        "id": "qkfgzHY_EX2O"
      },
      "execution_count": null,
      "outputs": []
    },
    {
      "cell_type": "markdown",
      "source": [
        "# **LINKED LIST***"
      ],
      "metadata": {
        "id": "s5vnkr-uEGW9"
      }
    },
    {
      "cell_type": "code",
      "execution_count": null,
      "metadata": {
        "id": "sR2JZeCSCFeG"
      },
      "outputs": [],
      "source": [
        "class Node:\n",
        "    def __init__(self,value):\n",
        "        self.data=value\n",
        "        self.next=None"
      ]
    },
    {
      "cell_type": "code",
      "source": [
        "class LinkedList:\n",
        "    def __init__(self):\n",
        "#         initially assigning head equal to none\n",
        "        self.head=None\n",
        "#         to count the number of node\n",
        "        self.n=0\n",
        "\n",
        "    def __len__(self):\n",
        "        return self.n\n",
        "\n",
        "    def insert_head(self,value):\n",
        "\n",
        "#   new node\n",
        "            new_node=Node(value)\n",
        "#     connection\n",
        "            new_node.next=self.head\n",
        "            self.head=new_node\n",
        "\n",
        "            self.n=self.n+1\n",
        "\n",
        "    def __str__(self):\n",
        "        curr=self.head\n",
        "        result=\"\"\n",
        "        while curr!= None:\n",
        "            result= result+str(curr.data)+\"-->\"\n",
        "            curr= curr.next\n",
        "\n",
        "        return result[:-3]\n",
        "\n",
        "    def append(self,value):\n",
        "        new_node=Node(value)\n",
        "\n",
        "        if self.head==None:\n",
        "            self.head=new_node\n",
        "            self.n=self.n+1\n",
        "        curr=self.head\n",
        "\n",
        "        while curr.next!=None:\n",
        "            curr=curr.next\n",
        "#          at the end of the node\n",
        "        curr.next =new_node\n",
        "        self.n=self.n+1\n",
        "\n",
        "    def insert_after(self,after,value):\n",
        "        new_node=Node(value)\n",
        "        curr=self.head\n",
        "        while curr!=None:\n",
        "            if curr.data==after:\n",
        "                break\n",
        "            curr=curr.next\n",
        "\n",
        "        if curr!=None:\n",
        "            new_node.next=curr.next\n",
        "            curr.next=new_node\n",
        "            self.n=self.n+1\n",
        "        else:\n",
        "            return \"Item not found:\"\n",
        "\n",
        "    def clear(self):\n",
        "        self.head=None\n",
        "        self.n=0\n",
        "\n",
        "    def delete_head(self):\n",
        "        if self.head== None:\n",
        "            return \"empty list \"\n",
        "\n",
        "        self.head=self.head.next\n",
        "        self.n =self.n-1\n",
        "\n",
        "    def delete_tail(self):\n",
        "\n",
        "        if self.head == None:\n",
        "                  # empty\n",
        "                return 'Empty LL'\n",
        "\n",
        "        curr = self.head\n",
        "\n",
        "                # kya linked list me 1 item hai?\n",
        "        if curr.next == None:\n",
        "                  # head hi hoga(delete from head)\n",
        "                  return self.delete_head()\n",
        "\n",
        "\n",
        "        while curr.next.next != None:\n",
        "                     curr = curr.next\n",
        "\n",
        "                # curr -> 2nd last node\n",
        "        curr.next = None\n",
        "        self.n = self.n - 1\n",
        "\n",
        "    def delete_after(self,value):\n",
        "        curr=self.head\n",
        "        if self.head == None:\n",
        "          return \"empty LL\"\n",
        "        while curr.next !=None:\n",
        "            if curr.next.data == value:\n",
        "                break\n",
        "\n",
        "        curr=curr.next\n",
        "        if curr.next == None:\n",
        "          return \"Item not found\"\n",
        "\n",
        "        curr.next=curr.next.next\n",
        "\n",
        "    def search(self,value):\n",
        "      curr = self.head\n",
        "      pos=0\n",
        "\n",
        "      while curr!= None:\n",
        "        if curr.data == value:\n",
        "          return pos\n",
        "        pos =pos+1\n",
        "        curr=curr.next\n",
        "      return \"number not in list\"\n",
        "\n",
        "    def __getitem__(self,index):\n",
        "        curr=self.head\n",
        "        pos=0\n",
        "        if self.head == None:\n",
        "            return \"empty list\"\n",
        "        while curr!=None:\n",
        "            if pos == index:\n",
        "                return curr.data\n",
        "            pos=pos+1\n",
        "            curr=curr.next\n",
        "        return \"index not found\""
      ],
      "metadata": {
        "id": "D4kyhNj-CTbR"
      },
      "execution_count": null,
      "outputs": []
    },
    {
      "cell_type": "code",
      "source": [
        "L=LinkedList()"
      ],
      "metadata": {
        "id": "pH1bO_nmCXWh"
      },
      "execution_count": null,
      "outputs": []
    },
    {
      "cell_type": "code",
      "source": [
        "L.insert_head(1)\n",
        "L.insert_head(2)\n",
        "L.insert_head(3)\n",
        "L.insert_head(4)"
      ],
      "metadata": {
        "id": "ssAHVW76CbGH"
      },
      "execution_count": null,
      "outputs": []
    },
    {
      "cell_type": "code",
      "source": [
        "len(L)"
      ],
      "metadata": {
        "colab": {
          "base_uri": "https://localhost:8080/"
        },
        "id": "Oogki5cbCgEN",
        "outputId": "4fa380f2-d4a0-4af3-8d02-b74e5148adea"
      },
      "execution_count": null,
      "outputs": [
        {
          "output_type": "execute_result",
          "data": {
            "text/plain": [
              "4"
            ]
          },
          "metadata": {},
          "execution_count": 25
        }
      ]
    },
    {
      "cell_type": "code",
      "source": [
        "print(L)"
      ],
      "metadata": {
        "colab": {
          "base_uri": "https://localhost:8080/"
        },
        "id": "vgfVMmpup7ER",
        "outputId": "8b4a33a2-2a7b-45ef-aafc-868d91bafcb4"
      },
      "execution_count": null,
      "outputs": [
        {
          "output_type": "stream",
          "name": "stdout",
          "text": [
            "4-->3-->2-->1\n"
          ]
        }
      ]
    },
    {
      "cell_type": "code",
      "source": [
        "L[6]"
      ],
      "metadata": {
        "colab": {
          "base_uri": "https://localhost:8080/",
          "height": 36
        },
        "id": "b4T09pQtCl1Z",
        "outputId": "aea8d2a1-de67-4749-ccd8-7eaf2e992593"
      },
      "execution_count": null,
      "outputs": [
        {
          "output_type": "execute_result",
          "data": {
            "text/plain": [
              "'index not found'"
            ],
            "application/vnd.google.colaboratory.intrinsic+json": {
              "type": "string"
            }
          },
          "metadata": {},
          "execution_count": 27
        }
      ]
    },
    {
      "cell_type": "code",
      "source": [
        "L.search(4)"
      ],
      "metadata": {
        "colab": {
          "base_uri": "https://localhost:8080/"
        },
        "id": "Xn-df8SeqAoX",
        "outputId": "e23c3f2c-a979-4b6b-abbc-a3314b8a8061"
      },
      "execution_count": null,
      "outputs": [
        {
          "output_type": "execute_result",
          "data": {
            "text/plain": [
              "0"
            ]
          },
          "metadata": {},
          "execution_count": 10
        }
      ]
    },
    {
      "cell_type": "markdown",
      "source": [
        "# **CREATE STACK USING LINKED LIST**\n"
      ],
      "metadata": {
        "id": "7kSZfCP7y8D6"
      }
    },
    {
      "cell_type": "code",
      "source": [
        "class node:\n",
        "    def __init__(self,value) :\n",
        "         self.next= None\n",
        "         self.data=value"
      ],
      "metadata": {
        "id": "2-8LETw9y3p-"
      },
      "execution_count": null,
      "outputs": []
    },
    {
      "cell_type": "code",
      "source": [
        "from re import T\n",
        "class Stack:\n",
        "    def __init__(self) :\n",
        "        self.head = None\n",
        "\n",
        "    def isempty(self):\n",
        "        return self.head==None\n",
        "\n",
        "\n",
        "    def push(self,value):\n",
        "        new_node=node(value)\n",
        "\n",
        "        new_node.next=self.head\n",
        "        self.head=new_node\n",
        "\n",
        "    def traverse(self):\n",
        "\n",
        "        curr=self.head\n",
        "\n",
        "        while curr!=None:\n",
        "            print(curr.data)\n",
        "            curr= curr.next\n",
        "\n",
        "    def peak(self):\n",
        "        return self.head.data\n",
        "\n",
        "    def pop(self):\n",
        "        curr =self.head\n",
        "        if self.head == None:\n",
        "            return \"empty stack\"\n",
        "        else:\n",
        "            data = self.head.data\n",
        "            self.head=self.head.next\n",
        "            return data\n",
        "\n",
        "    def size(self):\n",
        "        curr =self.head\n",
        "        counter=0\n",
        "        while curr!=None:\n",
        "            counter=counter+1\n",
        "            curr=curr.next\n",
        "        return counter\n"
      ],
      "metadata": {
        "id": "ttbCHwzlzvWQ"
      },
      "execution_count": null,
      "outputs": []
    },
    {
      "cell_type": "code",
      "source": [
        "s=Stack()"
      ],
      "metadata": {
        "id": "iOroIj481j8Z"
      },
      "execution_count": null,
      "outputs": []
    },
    {
      "cell_type": "code",
      "source": [
        "s.push(4)\n",
        "s.push(2)\n",
        "s.push(1)\n",
        "s.push(5)"
      ],
      "metadata": {
        "id": "nTykhMdA1s3H"
      },
      "execution_count": null,
      "outputs": []
    },
    {
      "cell_type": "code",
      "source": [
        "s.traverse()"
      ],
      "metadata": {
        "colab": {
          "base_uri": "https://localhost:8080/"
        },
        "id": "RlAjrZHB17NA",
        "outputId": "60b8fd74-897b-482c-b698-f191fd23c0b5"
      },
      "execution_count": null,
      "outputs": [
        {
          "output_type": "stream",
          "name": "stdout",
          "text": [
            "5\n",
            "1\n",
            "2\n",
            "4\n"
          ]
        }
      ]
    },
    {
      "cell_type": "code",
      "source": [
        "s.size()"
      ],
      "metadata": {
        "colab": {
          "base_uri": "https://localhost:8080/"
        },
        "id": "xxDMgxk96kcb",
        "outputId": "f2850b7f-8a16-4cf1-d510-a388e19b60f5"
      },
      "execution_count": null,
      "outputs": [
        {
          "output_type": "execute_result",
          "data": {
            "text/plain": [
              "4"
            ]
          },
          "metadata": {},
          "execution_count": 134
        }
      ]
    },
    {
      "cell_type": "markdown",
      "source": [
        "# QUESTIONS ON STACK"
      ],
      "metadata": {
        "id": "B17oPyuH76Rr"
      }
    },
    {
      "cell_type": "markdown",
      "source": [
        "\n",
        "\n",
        "1.   STRING REVERSAL\n",
        "\n"
      ],
      "metadata": {
        "id": "YHfHv3358BlV"
      }
    },
    {
      "cell_type": "code",
      "source": [
        "def reverse_string(text):\n",
        "    s=Stack()\n",
        "    for i in text:\n",
        "        s.push(i)\n",
        "\n",
        "    result=\"\"\n",
        "\n",
        "    while (not s.isempty()):\n",
        "        result=result+s.pop()\n",
        "\n",
        "    print(result)"
      ],
      "metadata": {
        "id": "FSIO0dar7-wX"
      },
      "execution_count": null,
      "outputs": []
    },
    {
      "cell_type": "code",
      "source": [
        "reverse_string(\"hello\")"
      ],
      "metadata": {
        "colab": {
          "base_uri": "https://localhost:8080/"
        },
        "id": "qkxGjvYt-_4c",
        "outputId": "71673da2-3f6e-4c96-c584-81baec4a5b39"
      },
      "execution_count": null,
      "outputs": [
        {
          "output_type": "stream",
          "name": "stdout",
          "text": [
            "olleh\n"
          ]
        }
      ]
    },
    {
      "cell_type": "markdown",
      "source": [
        "2.   String Editor\n",
        "\n"
      ],
      "metadata": {
        "id": "45iU5UWcBwDt"
      }
    },
    {
      "cell_type": "code",
      "source": [
        "def stringEditor(text,pattern):\n",
        "    u=Stack()\n",
        "    r=Stack()\n",
        "\n",
        "    for i in text:\n",
        "        u.push(i)\n",
        "    for i in pattern:\n",
        "        if i==\"u\":\n",
        "            data=u.pop()\n",
        "            r.push(data)\n",
        "        elif i ==\"r\":\n",
        "            data=r.pop()\n",
        "            u.push(data)\n",
        "\n",
        "    res=\"\"\n",
        "\n",
        "    while(not u.isempty()):\n",
        "        res=u.pop()+ res\n",
        "\n",
        "    print(res)"
      ],
      "metadata": {
        "id": "915HDbzSB2jr"
      },
      "execution_count": null,
      "outputs": []
    },
    {
      "cell_type": "code",
      "source": [
        "stringEditor(\"kolkata\",\"uuur\")"
      ],
      "metadata": {
        "colab": {
          "base_uri": "https://localhost:8080/"
        },
        "id": "gwUQtzAfDaAm",
        "outputId": "4c016515-fed0-470d-f546-0a69fafec6ac"
      },
      "execution_count": null,
      "outputs": [
        {
          "output_type": "stream",
          "name": "stdout",
          "text": [
            "kolka\n"
          ]
        }
      ]
    },
    {
      "cell_type": "markdown",
      "source": [
        "\n",
        "\n",
        "3.  celebrity poblem\n",
        "\n",
        "\n"
      ],
      "metadata": {
        "id": "_wvyOVo7JAoq"
      }
    },
    {
      "cell_type": "code",
      "source": [
        "L = [\n",
        "     [0,0,1,1],\n",
        "     [0,0,1,0],\n",
        "     [0,0,0,0],\n",
        "     [0,0,1,0]\n",
        "]"
      ],
      "metadata": {
        "id": "_C28vqxCJH0k"
      },
      "execution_count": null,
      "outputs": []
    },
    {
      "cell_type": "code",
      "source": [
        "def celibrity(L):\n",
        "    s=Stack()\n",
        "\n",
        "    for i in range(len(L)):\n",
        "        s.push(i)\n",
        "\n",
        "    while s.size()>=2:\n",
        "        i=s.pop()\n",
        "        j=s.pop()\n",
        "        if L[i][j]==0:\n",
        "            s.push(i)\n",
        "        else:\n",
        "            s.push(j)\n",
        "    celeb=s.pop()\n",
        "    for i in range(len(L)):\n",
        "        if i!=celeb:\n",
        "            if L[i][celeb]!=1 or L[celeb][i]!=0:\n",
        "                print(\"no one is celebrity\")\n",
        "                return\n",
        "    print(\"the celebrity is\",celeb)"
      ],
      "metadata": {
        "id": "ElVevGnWJKV-"
      },
      "execution_count": null,
      "outputs": []
    },
    {
      "cell_type": "code",
      "source": [
        "celibrity(L)"
      ],
      "metadata": {
        "colab": {
          "base_uri": "https://localhost:8080/"
        },
        "id": "vkt4UrAFLADN",
        "outputId": "4c5ceb31-11eb-41a5-9b37-64418479a0af"
      },
      "execution_count": null,
      "outputs": [
        {
          "output_type": "stream",
          "name": "stdout",
          "text": [
            "the celebrity is 2\n"
          ]
        }
      ]
    },
    {
      "cell_type": "markdown",
      "source": [
        "# CREATE QUEUE"
      ],
      "metadata": {
        "id": "7uX-Z82WqVlb"
      }
    },
    {
      "cell_type": "code",
      "source": [
        "class node:\n",
        "    def __init__(self,value):\n",
        "        self.data=value\n",
        "        self.next=None"
      ],
      "metadata": {
        "id": "FUOpi2YDqfIL"
      },
      "execution_count": null,
      "outputs": []
    },
    {
      "cell_type": "code",
      "source": [
        "class Queue:\n",
        "    def __init__(self):\n",
        "        self.head= None\n",
        "        self.tail = None\n",
        "\n",
        "    def enque(self,value):\n",
        "        new_node=node(value)\n",
        "        if self.tail== None and self.head==None:\n",
        "            self.head = new_node\n",
        "            self.tail=new_node\n",
        "        else:\n",
        "            self.tail.next=new_node\n",
        "            self.tail=new_node\n",
        "\n",
        "    def deque(self):\n",
        "        if self.head == None:\n",
        "            return \"Empty queue\"\n",
        "        else:\n",
        "            self.head=self.head.next\n",
        "\n",
        "    def traverse(self):\n",
        "        curr=self.head\n",
        "\n",
        "        if self.head==None:\n",
        "            return \"Empty \"\n",
        "        while curr!= None:\n",
        "            print(curr.data,end=\" \")\n",
        "            curr=curr.next\n",
        "\n",
        "    def isempty(self):\n",
        "        return self.head==None\n",
        "\n",
        "    def front_item(self):\n",
        "        if self.head == None:\n",
        "            return \"empty\"\n",
        "        return self.head.data\n",
        "\n",
        "    def rear_item(self):\n",
        "        if self.head==None:\n",
        "            return \"Empty \"\n",
        "        return self.tail.data\n"
      ],
      "metadata": {
        "id": "MZGbGdNAq4lB"
      },
      "execution_count": null,
      "outputs": []
    },
    {
      "cell_type": "code",
      "source": [
        "q=Queue()"
      ],
      "metadata": {
        "id": "vyk1HDEPthJ8"
      },
      "execution_count": null,
      "outputs": []
    },
    {
      "cell_type": "code",
      "source": [
        "q.enque(4)\n",
        "q.enque(3)\n",
        "q.enque(2)\n",
        "q.enque(1)"
      ],
      "metadata": {
        "id": "bNR6FLNVtmWW"
      },
      "execution_count": null,
      "outputs": []
    },
    {
      "cell_type": "code",
      "source": [
        "q.traverse()"
      ],
      "metadata": {
        "colab": {
          "base_uri": "https://localhost:8080/"
        },
        "id": "47ekbof9tvi9",
        "outputId": "f606814a-1074-4f6e-ec78-2f2bb02ce135"
      },
      "execution_count": null,
      "outputs": [
        {
          "output_type": "stream",
          "name": "stdout",
          "text": [
            "4 3 2 1 "
          ]
        }
      ]
    },
    {
      "cell_type": "code",
      "source": [
        "q.deque()"
      ],
      "metadata": {
        "id": "drhjLIIwuphA"
      },
      "execution_count": null,
      "outputs": []
    },
    {
      "cell_type": "code",
      "source": [
        "q.isempty()"
      ],
      "metadata": {
        "colab": {
          "base_uri": "https://localhost:8080/"
        },
        "id": "EFDS7tl_x7Oi",
        "outputId": "293d10ef-bccf-4579-9884-8ba20100c04c"
      },
      "execution_count": null,
      "outputs": [
        {
          "output_type": "execute_result",
          "data": {
            "text/plain": [
              "False"
            ]
          },
          "metadata": {},
          "execution_count": 27
        }
      ]
    },
    {
      "cell_type": "code",
      "source": [
        "q.front_item()"
      ],
      "metadata": {
        "colab": {
          "base_uri": "https://localhost:8080/"
        },
        "id": "4Ko4N3LgyCCy",
        "outputId": "09f210e8-0fa5-4933-92df-8a9e2b56c78a"
      },
      "execution_count": null,
      "outputs": [
        {
          "output_type": "execute_result",
          "data": {
            "text/plain": [
              "4"
            ]
          },
          "metadata": {},
          "execution_count": 33
        }
      ]
    },
    {
      "cell_type": "markdown",
      "source": [
        "# HASHING"
      ],
      "metadata": {
        "id": "XYFfRzEalLjI"
      }
    },
    {
      "cell_type": "code",
      "source": [
        "class dict:\n",
        "    def __init__(self,size):\n",
        "        self.size=size\n",
        "        self.slot=[None]*self.size\n",
        "        self.data=[None]*self.size\n",
        "\n",
        "    def hash_func(self,key):\n",
        "        return abs(hash(key))%self.size\n",
        "\n",
        "    def rehash(self,old_hash):\n",
        "        return (old_hash+1)%self.size\n",
        "\n",
        "    def put(self,key,value):\n",
        "        hash = self.hash_func(key)\n",
        "\n",
        "        if  self.slot[hash]== None:\n",
        "            self.slot[hash] = key\n",
        "            self.data[hash]= value\n",
        "\n",
        "        else:\n",
        "            if self.slot[hash]==key:\n",
        "                self.data[hash] =value\n",
        "            else:\n",
        "                new_hash = self.rehash(hash)\n",
        "\n",
        "                while self.slot[new_hash]!=None and self.slot[new_hash]!= key:\n",
        "                    new_hash= self.rehash(new_hash)\n",
        "\n",
        "                if self.slot[new_hash]==None:\n",
        "                    self.slot[new_hash]=key\n",
        "                    self.data[new_hash]=value\n",
        "                else:\n",
        "                    self.slot[new_hash]= value\n",
        "\n",
        "    def __setitem__(self,key,value):\n",
        "        self.put(key,value)\n",
        "\n",
        "    def get(self,key):\n",
        "        startpos = self.hash_func(key)\n",
        "        currentpos = startpos\n",
        "\n",
        "        while self.slot[currentpos]!=None:\n",
        "            if self.slot[currentpos] == key:\n",
        "                return self.data[currentpos]\n",
        "\n",
        "            currentpos=self.rehash(currentpos)\n",
        "\n",
        "            if currentpos == startpos:\n",
        "                return \"not found\"\n",
        "\n",
        "        return \"not found\"\n",
        "\n",
        "    def __getitem__(self,key):\n",
        "        return self.get(key)\n",
        "\n"
      ],
      "metadata": {
        "id": "1lWwV4kPlOOW"
      },
      "execution_count": null,
      "outputs": []
    },
    {
      "cell_type": "code",
      "source": [
        "d=dict(3)"
      ],
      "metadata": {
        "id": "8FTJZpRGosxK"
      },
      "execution_count": null,
      "outputs": []
    },
    {
      "cell_type": "code",
      "source": [
        "print(d.slot)\n",
        "print(d.data)"
      ],
      "metadata": {
        "colab": {
          "base_uri": "https://localhost:8080/"
        },
        "id": "hoQz9Io5o30y",
        "outputId": "48bb970f-6da0-470a-d60f-63125f2182bd"
      },
      "execution_count": null,
      "outputs": [
        {
          "output_type": "stream",
          "name": "stdout",
          "text": [
            "['java', 'python', 'php']\n",
            "[70, 69, 71]\n"
          ]
        }
      ]
    },
    {
      "cell_type": "code",
      "source": [
        "d.put(\"php\",70)"
      ],
      "metadata": {
        "id": "Q0OS6rn6o_CQ"
      },
      "execution_count": null,
      "outputs": []
    },
    {
      "cell_type": "code",
      "source": [
        "abs(hash(\"php\"))%3"
      ],
      "metadata": {
        "colab": {
          "base_uri": "https://localhost:8080/"
        },
        "id": "jH8AHO1Ir1V3",
        "outputId": "32dbfe95-d401-4c68-d5ca-3fa2c25d2126"
      },
      "execution_count": null,
      "outputs": [
        {
          "output_type": "execute_result",
          "data": {
            "text/plain": [
              "0"
            ]
          },
          "metadata": {},
          "execution_count": 43
        }
      ]
    },
    {
      "cell_type": "code",
      "source": [
        "d[\"python\"]=69\n",
        "d[\"java\"]=70\n",
        "d[\"php\"]=71"
      ],
      "metadata": {
        "id": "RATkXEunuFx-"
      },
      "execution_count": null,
      "outputs": []
    },
    {
      "cell_type": "code",
      "source": [
        "d.get(\"python\")"
      ],
      "metadata": {
        "colab": {
          "base_uri": "https://localhost:8080/"
        },
        "id": "fQf2Fqk1yeRe",
        "outputId": "93d455ca-7209-4a53-89c9-991dcab0f46f"
      },
      "execution_count": null,
      "outputs": [
        {
          "output_type": "execute_result",
          "data": {
            "text/plain": [
              "69"
            ]
          },
          "metadata": {},
          "execution_count": 84
        }
      ]
    },
    {
      "cell_type": "code",
      "source": [
        "d.get(\"c\")"
      ],
      "metadata": {
        "colab": {
          "base_uri": "https://localhost:8080/",
          "height": 36
        },
        "id": "Va7-zC0Ayk95",
        "outputId": "c6e3b378-7109-4136-d12d-37000870b462"
      },
      "execution_count": null,
      "outputs": [
        {
          "output_type": "execute_result",
          "data": {
            "text/plain": [
              "'not found'"
            ],
            "application/vnd.google.colaboratory.intrinsic+json": {
              "type": "string"
            }
          },
          "metadata": {},
          "execution_count": 85
        }
      ]
    },
    {
      "cell_type": "markdown",
      "source": [
        "# BINARY SEARCH TREE"
      ],
      "metadata": {
        "id": "n3ayMgJMSGs_"
      }
    },
    {
      "cell_type": "code",
      "source": [
        "class BST:\n",
        "    def __init__(self,key):\n",
        "        self.data= key\n",
        "        self.left_child=None\n",
        "        self.right_child=None\n",
        "\n",
        "    def insert(self,key):\n",
        "        if  self.data is None:\n",
        "            self.data=key\n",
        "            return\n",
        "        if self.data> key:\n",
        "            if self.left_child:\n",
        "                self.left_child.insert(key)\n",
        "            else:\n",
        "                self.left_child = BST(key)\n",
        "        else:\n",
        "             if self.right_child:\n",
        "                self.right_child.insert(key)\n",
        "             else:\n",
        "                self.right_child = BST(key)\n",
        "\n",
        "    def search(self,key):\n",
        "        if self.data==key:\n",
        "            print(\"Data is present\")\n",
        "            return\n",
        "        if key< self.data:\n",
        "            if self.left_child:\n",
        "                self.left_child.search(key)\n",
        "            else:\n",
        "                print(\"Data is not present\")\n",
        "        else:\n",
        "            if key> self.data:\n",
        "                if self.right_child:\n",
        "                    self.right_child.search(key)\n",
        "            else:\n",
        "                print(\"Data is not present\")\n",
        "\n",
        "    def preorder(self):\n",
        "        print(self.data)\n",
        "        if self.left_child:\n",
        "            self.left_child.preorder()\n",
        "        if self.right_child:\n",
        "            self.right_child.preorder()\n",
        "\n",
        "    def  inorder(self):\n",
        "        if self.left_child:\n",
        "            self.left_child.inorder()\n",
        "        print(self.data)\n",
        "\n",
        "        if self.right_child:\n",
        "            self.right_child.inorder()\n",
        "\n",
        "    def postorder(self):\n",
        "        if self.left_child:\n",
        "            self.left_child.postorder()\n",
        "        if self.right_child:\n",
        "            self.right_child.postorder()\n",
        "        print(self.data)\n",
        "\n",
        "    def delete(self,key):\n",
        "        if self.data is None:\n",
        "            print(\"empty\")\n",
        "            return\n",
        "        if  key < self.data:\n",
        "            if self.left_child:\n",
        "                self.left_child=self.left_child.delete(key)\n",
        "            else:\n",
        "                print(\"Data not found\")\n",
        "        if self.data < key:\n",
        "            if self.right_child:\n",
        "                self.right_child=self.right_child.delete(key)\n",
        "            else:\n",
        "                print(\"Data not found\")\n",
        "        else:\n",
        "            if self.left_child is None:\n",
        "                temp = self.right_child\n",
        "                self = None\n",
        "                return temp\n",
        "\n",
        "            if self.right_child is None:\n",
        "                temp = self.left_child\n",
        "                self = None\n",
        "                return temp\n",
        "\n",
        "            node = self.right_child\n",
        "            while node.left_child:\n",
        "                node = node.left_child\n",
        "\n",
        "            self.data = node.data\n",
        "            self.right_child= self.right_child.delete(node.delete)\n",
        "\n",
        "        return self\n",
        "\n",
        "    def min(self):\n",
        "        current =  self\n",
        "        while  current.left_child:\n",
        "            current = current.left_child\n",
        "\n",
        "        print(current.data)\n",
        "\n",
        "    def max(self):\n",
        "        current =  self\n",
        "        while  current.right_child:\n",
        "            current = current.right_child\n",
        "\n",
        "        print(current.data)\n"
      ],
      "metadata": {
        "id": "kDA2F6Vl4GzI"
      },
      "execution_count": null,
      "outputs": []
    },
    {
      "cell_type": "code",
      "source": [
        "root=BST(10)\n",
        "list1=[6,3,1,98,7]\n",
        "for i in list1:\n",
        "    root.insert(i)\n",
        "root.search(3)\n",
        "print(\"preorder\")\n",
        "root.preorder()\n",
        "print(\"inorder\")\n",
        "root.inorder()\n",
        "print(\"postorder\")\n",
        "root.postorder()\n",
        "print(\"deletion:\")\n",
        "root.delete(98)\n",
        "print(\"minimum number\")\n",
        "root.min()\n",
        "print(\"maximum number\")\n",
        "root.max()"
      ],
      "metadata": {
        "colab": {
          "base_uri": "https://localhost:8080/"
        },
        "id": "v4X73nPqmChf",
        "outputId": "ee612503-c536-4b17-e683-b24a787fb95b"
      },
      "execution_count": null,
      "outputs": [
        {
          "output_type": "stream",
          "name": "stdout",
          "text": [
            "Data is present\n",
            "preorder\n",
            "10\n",
            "6\n",
            "3\n",
            "1\n",
            "7\n",
            "98\n",
            "inorder\n",
            "1\n",
            "3\n",
            "6\n",
            "7\n",
            "10\n",
            "98\n",
            "postorder\n",
            "1\n",
            "3\n",
            "7\n",
            "6\n",
            "98\n",
            "10\n",
            "minimum number\n",
            "1\n",
            "maximum number\n",
            "98\n"
          ]
        }
      ]
    },
    {
      "cell_type": "code",
      "source": [
        "root.inorder()"
      ],
      "metadata": {
        "colab": {
          "base_uri": "https://localhost:8080/"
        },
        "id": "iLpxsnkIc6hZ",
        "outputId": "d2ccfe60-0402-4b96-bcbf-8f9824d9ccf1"
      },
      "execution_count": null,
      "outputs": [
        {
          "output_type": "stream",
          "name": "stdout",
          "text": [
            "1\n",
            "3\n",
            "6\n",
            "7\n",
            "10\n"
          ]
        }
      ]
    },
    {
      "cell_type": "code",
      "source": [
        "n=10\n",
        "j=0\n",
        "a=\"\"\n",
        "t=0\n",
        "p=\"\"\n",
        "c=\"1010\"\n",
        "for j in range(n):\n",
        "    print(j)\n",
        "    if j==0:\n",
        "       a=(len(c)-len(str(j)))*\"0\"+str(j)\n",
        "    else:\n",
        "        while j > 0:\n",
        "            print(\"Now\")\n",
        "            t = j % 2\n",
        "            j = j // 2\n",
        "            a = a + str(t)\n",
        "    p=(len(c)-len(a))*\"0\"+a[::-1]\n",
        "    print(p)\n",
        "    a=\"\""
      ],
      "metadata": {
        "colab": {
          "base_uri": "https://localhost:8080/"
        },
        "id": "HbLQ-SM26uSw",
        "outputId": "417e2d30-e027-4aa1-afd0-e86af6af9cb7"
      },
      "execution_count": null,
      "outputs": [
        {
          "output_type": "stream",
          "name": "stdout",
          "text": [
            "0\n",
            "0000\n",
            "1\n",
            "Now\n",
            "0001\n",
            "2\n",
            "Now\n",
            "Now\n",
            "0010\n",
            "3\n",
            "Now\n",
            "Now\n",
            "0011\n",
            "4\n",
            "Now\n",
            "Now\n",
            "Now\n",
            "0100\n",
            "5\n",
            "Now\n",
            "Now\n",
            "Now\n",
            "0101\n",
            "6\n",
            "Now\n",
            "Now\n",
            "Now\n",
            "0110\n",
            "7\n",
            "Now\n",
            "Now\n",
            "Now\n",
            "0111\n",
            "8\n",
            "Now\n",
            "Now\n",
            "Now\n",
            "Now\n",
            "1000\n",
            "9\n",
            "Now\n",
            "Now\n",
            "Now\n",
            "Now\n",
            "1001\n"
          ]
        }
      ]
    },
    {
      "cell_type": "code",
      "source": [
        "print(1%2)"
      ],
      "metadata": {
        "colab": {
          "base_uri": "https://localhost:8080/"
        },
        "id": "WwrYhStQ7590",
        "outputId": "c48257d1-6d7e-4067-ebbb-d549daccc89b"
      },
      "execution_count": null,
      "outputs": [
        {
          "output_type": "stream",
          "name": "stdout",
          "text": [
            "1\n"
          ]
        }
      ]
    },
    {
      "cell_type": "code",
      "source": [
        "n=int(input())\n",
        "x=n\n",
        "first=[]\n",
        "for i in range(n+1):\n",
        "    first.append(n+i)\n",
        "print(first)\n",
        "s=\"\"\n",
        "r=0\n",
        "c=\"\"\n",
        "while n>0:\n",
        "    r=n%2\n",
        "    n=n//2\n",
        "    s=s+str(r)\n",
        "# print(s[::-1])\n",
        "c=s[::-1]\n",
        "print(c)\n",
        "a=\"\"\n",
        "t=0\n",
        "p=\"\"\n",
        "l1=[]\n",
        "for j in range(x):\n",
        "    if j==0:\n",
        "       a=(len(c)-len(str(j)))*\"0\"+str(j)\n",
        "    else:\n",
        "        while j > 0:\n",
        "            t = j % 2\n",
        "            j = j // 2\n",
        "            a = a + str(t)\n",
        "    p=(len(c)-len(a))*\"0\"+a[::-1]\n",
        "    print(p)\n",
        "    l1.append(p)\n",
        "    a=\"\"\n",
        "print(l1)\n",
        "l2=[]\n",
        "l3=\"\"\n",
        "la=[]\n",
        "for i in range(len(l1)):\n",
        "    l2.append(l1[i])\n",
        "\n",
        "\n"
      ],
      "metadata": {
        "colab": {
          "base_uri": "https://localhost:8080/"
        },
        "id": "UkJB8ijp9S13",
        "outputId": "780a20d5-355e-4a00-fc55-17de46081716"
      },
      "execution_count": null,
      "outputs": [
        {
          "output_type": "stream",
          "name": "stdout",
          "text": [
            "10\n",
            "[10, 11, 12, 13, 14, 15, 16, 17, 18, 19, 20]\n",
            "1010\n",
            "0000\n",
            "0001\n",
            "0010\n",
            "0011\n",
            "0100\n",
            "0101\n",
            "0110\n",
            "0111\n",
            "1000\n",
            "1001\n",
            "['0000', '0001', '0010', '0011', '0100', '0101', '0110', '0111', '1000', '1001']\n"
          ]
        }
      ]
    }
  ]
}